{
 "cells": [
  {
   "cell_type": "code",
   "execution_count": null,
   "metadata": {},
   "outputs": [],
   "source": [
    "import openai\n",
    "\n",
    "import torch\n",
    "\n",
    "openai.api_type = ###\n",
    "openai.api_base = ###\n",
    "openai.api_version = ###\n",
    "openai.api_key = ###"
   ]
  },
  {
   "cell_type": "code",
   "execution_count": null,
   "metadata": {},
   "outputs": [],
   "source": [
    "def use_api(prompt, model_name = 'gpt-35-turbo', temp = 0.0):\n",
    "    response = None\n",
    "\n",
    "    response = openai.ChatCompletion.create(\n",
    "            engine = model_name,\n",
    "            messages = [\n",
    "                {\"role\": \"system\", \"content\": \"You are a helpful assistant.\"}, \n",
    "                {\"role\": \"user\", \"content\": prompt}\n",
    "            ],\n",
    "            temperature = temp\n",
    "        )                                \n",
    "        \n",
    "    if response is not None:\n",
    "        answer = response['choices'][0]['message']['content']\n",
    "    \n",
    "    return answer"
   ]
  },
  {
   "cell_type": "code",
   "execution_count": null,
   "metadata": {},
   "outputs": [],
   "source": [
    "prompt = \"### Your Task ###You are an image classifier classifying a given natural image into a certain class.\"\n",
    "prompt += \"\\n\\nQuestion: List possible spurious correlations while classifying natural images. Answer in a word.\"\n",
    "prompt += \"\\n\\nAnswer: 1.\"\n",
    "\n",
    "print(prompt)\n",
    "\n",
    "\n",
    "answer = use_api(prompt)\n",
    "print(answer)\n",
    "\n",
    "answer = use_api(prompt)"
   ]
  },
  {
   "cell_type": "code",
   "execution_count": null,
   "metadata": {},
   "outputs": [],
   "source": [
    "prompt = \"### Your Task ###You are an image classifier classifying a given natural image into a certain class.\"\n",
    "prompt += \"\\n\\nQuestion: What are the possible spurious correlations during making decisions? List them.\"\n",
    "prompt += \"\\n\\nAnswer: 1.\""
   ]
  }
 ],
 "metadata": {
  "kernelspec": {
   "display_name": "Python 3",
   "language": "python",
   "name": "python3"
  },
  "language_info": {
   "name": "python",
   "version": "3.10.12"
  }
 },
 "nbformat": 4,
 "nbformat_minor": 2
}
